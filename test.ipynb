{
 "cells": [
  {
   "cell_type": "code",
   "execution_count": 1,
   "metadata": {},
   "outputs": [],
   "source": [
    "%load_ext sql\n",
    "%config SqlMagic.feedback = False"
   ]
  },
  {
   "cell_type": "code",
   "execution_count": 2,
   "metadata": {},
   "outputs": [],
   "source": [
    "from os import environ\n",
    "if environ.get(\"UDACITY_DATA_ENGINEER_POSTGRES_INSTANCE\"):\n",
    "    host = environ.get(\"UDACITY_DATA_ENGINEER_POSTGRES_INSTANCE\")\n",
    "    user = environ.get(\"UDACITY_DATA_ENGINEER_POSTGRES_USER\")\n",
    "    password = environ.get(\"UDACITY_DATA_ENGINEER_POSTGRES_PASSWORD\")\n",
    "\n",
    "conn_string = \"postgresql://{}:{}@{}/sparkifydb\".format(user, password, host)"
   ]
  },
  {
   "cell_type": "code",
   "execution_count": null,
   "metadata": {},
   "outputs": [],
   "source": [
    "%sql $conn_string SELECT * FROM songplays LIMIT 5;"
   ]
  },
  {
   "cell_type": "code",
   "execution_count": null,
   "metadata": {},
   "outputs": [],
   "source": [
    "%sql $conn_string SELECT * FROM users LIMIT 5;"
   ]
  },
  {
   "cell_type": "code",
   "execution_count": null,
   "metadata": {},
   "outputs": [],
   "source": [
    "%sql $conn_string SELECT * FROM songs LIMIT 5;"
   ]
  },
  {
   "cell_type": "code",
   "execution_count": null,
   "metadata": {},
   "outputs": [],
   "source": [
    "%sql $conn_string SELECT * FROM artists LIMIT 5;"
   ]
  },
  {
   "cell_type": "code",
   "execution_count": 4,
   "metadata": {},
   "outputs": [
    {
     "data": {
      "text/html": [
       "<table>\n",
       "    <tr>\n",
       "        <th>start_time</th>\n",
       "        <th>hour</th>\n",
       "        <th>day</th>\n",
       "        <th>week</th>\n",
       "        <th>month</th>\n",
       "        <th>year</th>\n",
       "        <th>weekday</th>\n",
       "    </tr>\n",
       "    <tr>\n",
       "        <td>2018-11-22 00:03:52.796000</td>\n",
       "        <td>0</td>\n",
       "        <td>22</td>\n",
       "        <td>47</td>\n",
       "        <td>11</td>\n",
       "        <td>2018</td>\n",
       "        <td>3</td>\n",
       "    </tr>\n",
       "    <tr>\n",
       "        <td>2018-11-22 00:09:10.796000</td>\n",
       "        <td>0</td>\n",
       "        <td>22</td>\n",
       "        <td>47</td>\n",
       "        <td>11</td>\n",
       "        <td>2018</td>\n",
       "        <td>3</td>\n",
       "    </tr>\n",
       "    <tr>\n",
       "        <td>2018-11-22 00:12:06.796000</td>\n",
       "        <td>0</td>\n",
       "        <td>22</td>\n",
       "        <td>47</td>\n",
       "        <td>11</td>\n",
       "        <td>2018</td>\n",
       "        <td>3</td>\n",
       "    </tr>\n",
       "    <tr>\n",
       "        <td>2018-11-22 00:15:41.796000</td>\n",
       "        <td>0</td>\n",
       "        <td>22</td>\n",
       "        <td>47</td>\n",
       "        <td>11</td>\n",
       "        <td>2018</td>\n",
       "        <td>3</td>\n",
       "    </tr>\n",
       "    <tr>\n",
       "        <td>2018-11-22 00:23:40.796000</td>\n",
       "        <td>0</td>\n",
       "        <td>22</td>\n",
       "        <td>47</td>\n",
       "        <td>11</td>\n",
       "        <td>2018</td>\n",
       "        <td>3</td>\n",
       "    </tr>\n",
       "</table>"
      ],
      "text/plain": [
       "[(datetime.datetime(2018, 11, 22, 0, 3, 52, 796000), 0, 22, 47, 11, 2018, 3),\n",
       " (datetime.datetime(2018, 11, 22, 0, 9, 10, 796000), 0, 22, 47, 11, 2018, 3),\n",
       " (datetime.datetime(2018, 11, 22, 0, 12, 6, 796000), 0, 22, 47, 11, 2018, 3),\n",
       " (datetime.datetime(2018, 11, 22, 0, 15, 41, 796000), 0, 22, 47, 11, 2018, 3),\n",
       " (datetime.datetime(2018, 11, 22, 0, 23, 40, 796000), 0, 22, 47, 11, 2018, 3)]"
      ]
     },
     "execution_count": 4,
     "metadata": {},
     "output_type": "execute_result"
    }
   ],
   "source": [
    "%sql $conn_string SELECT * FROM time LIMIT 5;"
   ]
  },
  {
   "cell_type": "markdown",
   "metadata": {},
   "source": [
    "## REMEMBER: Restart this notebook to close connection to `sparkifydb`\n",
    "Each time you run the cells above, remember to restart this notebook to close the connection to your database. Otherwise, you won't be able to run your code in `create_tables.py`, `etl.py`, or `etl.ipynb` files since you can't make multiple connections to the same database (in this case, sparkifydb)."
   ]
  },
  {
   "cell_type": "code",
   "execution_count": null,
   "metadata": {},
   "outputs": [],
   "source": []
  }
 ],
 "metadata": {
  "kernelspec": {
   "display_name": "Python [conda env:udacity-data-engineering-nano]",
   "language": "python",
   "name": "conda-env-udacity-data-engineering-nano-py"
  },
  "language_info": {
   "codemirror_mode": {
    "name": "ipython",
    "version": 3
   },
   "file_extension": ".py",
   "mimetype": "text/x-python",
   "name": "python",
   "nbconvert_exporter": "python",
   "pygments_lexer": "ipython3",
   "version": "3.8.2"
  }
 },
 "nbformat": 4,
 "nbformat_minor": 4
}
